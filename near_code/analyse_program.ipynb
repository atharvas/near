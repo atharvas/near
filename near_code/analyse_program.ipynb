{
 "cells": [
  {
   "cell_type": "code",
   "execution_count": 5,
   "metadata": {},
   "outputs": [],
   "source": [
    "import pickle\n",
    "\n",
    "program_loc = \"/home/asehgal/NEAR/near/near_code/results/ecg-example_astar-near_001/program.p\"\n",
    "with open(program_loc, 'rb') as f:\n",
    "    program = pickle.load(f)\n"
   ]
  },
  {
   "cell_type": "code",
   "execution_count": 7,
   "metadata": {},
   "outputs": [
    {
     "name": "stdout",
     "output_type": "stream",
     "text": [
      "Start(Fold(Multiply(FullFeatureSelect(params: dict_values([Parameter containing:\n",
      "tensor([[-0.0182, -0.0644,  0.0417,  ..., -0.0775, -0.0493,  0.0398],\n",
      "        [ 0.0949,  0.0938,  0.0746,  ...,  0.0263,  0.0079, -0.0309],\n",
      "        [ 0.0854,  0.0474,  0.0844,  ..., -0.0352, -0.0395, -0.0274],\n",
      "        ...,\n",
      "        [ 0.0897,  0.3467,  0.0501,  ..., -0.0796,  0.0168, -0.0401],\n",
      "        [-0.2829, -0.1258, -0.3689,  ..., -0.0729,  0.0506,  0.0130],\n",
      "        [-0.4374, -0.1420, -0.4403,  ...,  0.0720,  0.0367, -0.0272]],\n",
      "       device='cuda:0', requires_grad=True), Parameter containing:\n",
      "tensor([ 0.1166,  0.5798, -0.0104,  0.0667,  0.7461, -0.1661,  0.0942, -0.7079,\n",
      "        -0.2876], device='cuda:0', requires_grad=True)])), FullFeatureSelect(params: dict_values([Parameter containing:\n",
      "tensor([[-0.0304, -0.0365,  0.0646,  ..., -0.0547, -0.0118, -0.0698],\n",
      "        [-0.1647, -0.3337, -0.0702,  ..., -0.0111, -0.0292,  0.0530],\n",
      "        [ 0.0159, -0.0903,  0.0136,  ...,  0.0602,  0.0618, -0.0168],\n",
      "        ...,\n",
      "        [-0.2687, -0.2771, -0.2470,  ...,  0.0465,  0.0253,  0.0635],\n",
      "        [ 0.1635, -0.4009,  0.1524,  ..., -0.0365,  0.0415,  0.0607],\n",
      "        [ 0.5304,  0.2543,  0.4982,  ..., -0.0540,  0.0374, -0.0480]],\n",
      "       device='cuda:0', requires_grad=True), Parameter containing:\n",
      "tensor([ 0.2169, -0.0388, -0.2922, -0.0478, -0.5298,  0.1560, -0.7072,  0.2520,\n",
      "         0.3966], device='cuda:0', requires_grad=True)])))))\n"
     ]
    }
   ],
   "source": [
    "from utils.logging import print_program\n",
    "\n",
    "print(print_program(program, ignore_constants=False))"
   ]
  }
 ],
 "metadata": {
  "kernelspec": {
   "display_name": "pl",
   "language": "python",
   "name": "python3"
  },
  "language_info": {
   "codemirror_mode": {
    "name": "ipython",
    "version": 3
   },
   "file_extension": ".py",
   "mimetype": "text/x-python",
   "name": "python",
   "nbconvert_exporter": "python",
   "pygments_lexer": "ipython3",
   "version": "3.8.6"
  },
  "orig_nbformat": 4
 },
 "nbformat": 4,
 "nbformat_minor": 2
}
